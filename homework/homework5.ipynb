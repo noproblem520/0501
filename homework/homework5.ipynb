{
 "cells": [
  {
   "cell_type": "code",
   "execution_count": 47,
   "metadata": {},
   "outputs": [
    {
     "name": "stdout",
     "output_type": "stream",
     "text": [
      "enter +-*//\n",
      "enter two or more numbers by using , to split1,2,3\n",
      "0.16666666666666666\n"
     ]
    }
   ],
   "source": [
    "def add(*numbers) :\n",
    "    total = 0\n",
    "    for i in numbers[0] :\n",
    "        total  += i\n",
    "    return total\n",
    "    \n",
    "def minus(*numbers) :\n",
    "    total = numbers[0][0]*2\n",
    "    for i in numbers[0] :\n",
    "        total -= i\n",
    "    return total\n",
    "    \n",
    "def times(*numbers) :\n",
    "    total = 1\n",
    "    for i in numbers[0] :\n",
    "        total *= i\n",
    "    return total\n",
    "    \n",
    "def divide(*numbers) :\n",
    "    total = numbers[0][0]**2\n",
    "    for i in numbers[0] :\n",
    "        total /= i\n",
    "    return total\n",
    "\n",
    "tool = input(\"enter +-*/\")\n",
    "try :\n",
    "    number = eval(input(\"enter two or more numbers by using , to split\"))\n",
    "    if tool == \"+\" :\n",
    "        print(add(number))\n",
    "    elif tool == \"-\" :\n",
    "        print(minus(number))\n",
    "    elif tool == \"*\" :\n",
    "        print(times(number))\n",
    "    elif tool == \"/\" :\n",
    "        print(divide(number))\n",
    "    else :\n",
    "        print(\"no this operator\")\n",
    "except: \n",
    "    print(\"please enter numbers!!\")\n"
   ]
  }
 ],
 "metadata": {
  "kernelspec": {
   "display_name": "Python 3",
   "language": "python",
   "name": "python3"
  }
 },
 "nbformat": 4,
 "nbformat_minor": 2
}
